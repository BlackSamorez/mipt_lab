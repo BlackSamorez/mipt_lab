{
 "cells": [
  {
   "cell_type": "code",
   "execution_count": 19,
   "metadata": {},
   "outputs": [],
   "source": [
    "import scienceplots\n",
    "import matplotlib\n",
    "from matplotlib import pyplot as plt\n",
    "import numpy as np\n",
    "import pandas as pd\n",
    "from sklearn.linear_model import LinearRegression\n",
    "from matplotlib.backends.backend_pgf import FigureCanvasPgf\n",
    "\n",
    "matplotlib.backend_bases.register_backend('pdf', FigureCanvasPgf)\n",
    "\n",
    "\n",
    "# use fancy style and tex in plt\n",
    "plt.style.use(['science', 'russian-font'])\n",
    "matplotlib.rc('text', usetex = True)\n",
    "preamble = plt.rcParams.get('text.latex.preamble')\n",
    "params = {\n",
    "  'pgf.rcfonts' : False,\n",
    "  'pgf.texsystem' : 'pdflatex',\n",
    "  'pgf.preamble' : \"\\n\".join([preamble,r'\\usepackage{textcomp,mathcomp}'])\n",
    "\n",
    "}\n",
    "plt.rcParams.update(params)\n",
    "plt.rcParams.update({\"axes.grid\" : True, \"grid.linestyle\" : (0, (5, 10))})"
   ]
  },
  {
   "cell_type": "code",
   "execution_count": 20,
   "metadata": {},
   "outputs": [],
   "source": [
    "import os\n",
    "current_dir = os.getcwd().lower()\n",
    "\n",
    "output_dir = 'processor_output'\n",
    "# Create output folder if it does not exist\n",
    "if (not os.path.exists(f'./{output_dir}')):\n",
    "    os.makedirs(output_dir)"
   ]
  },
  {
   "cell_type": "code",
   "execution_count": 21,
   "metadata": {},
   "outputs": [
    {
     "data": {
      "text/html": [
       "<div>\n",
       "<style scoped>\n",
       "    .dataframe tbody tr th:only-of-type {\n",
       "        vertical-align: middle;\n",
       "    }\n",
       "\n",
       "    .dataframe tbody tr th {\n",
       "        vertical-align: top;\n",
       "    }\n",
       "\n",
       "    .dataframe thead th {\n",
       "        text-align: right;\n",
       "    }\n",
       "</style>\n",
       "<table border=\"1\" class=\"dataframe\">\n",
       "  <thead>\n",
       "    <tr style=\"text-align: right;\">\n",
       "      <th></th>\n",
       "      <th>measurement_number</th>\n",
       "      <th>temperature</th>\n",
       "      <th>frequency</th>\n",
       "    </tr>\n",
       "  </thead>\n",
       "  <tbody>\n",
       "    <tr>\n",
       "      <th>0</th>\n",
       "      <td>1</td>\n",
       "      <td>23.5</td>\n",
       "      <td>448</td>\n",
       "    </tr>\n",
       "    <tr>\n",
       "      <th>1</th>\n",
       "      <td>2</td>\n",
       "      <td>23.5</td>\n",
       "      <td>660</td>\n",
       "    </tr>\n",
       "    <tr>\n",
       "      <th>2</th>\n",
       "      <td>3</td>\n",
       "      <td>23.5</td>\n",
       "      <td>874</td>\n",
       "    </tr>\n",
       "    <tr>\n",
       "      <th>3</th>\n",
       "      <td>4</td>\n",
       "      <td>23.5</td>\n",
       "      <td>1088</td>\n",
       "    </tr>\n",
       "    <tr>\n",
       "      <th>4</th>\n",
       "      <td>5</td>\n",
       "      <td>23.5</td>\n",
       "      <td>1306</td>\n",
       "    </tr>\n",
       "  </tbody>\n",
       "</table>\n",
       "</div>"
      ],
      "text/plain": [
       "   measurement_number  temperature  frequency\n",
       "0                   1         23.5        448\n",
       "1                   2         23.5        660\n",
       "2                   3         23.5        874\n",
       "3                   4         23.5       1088\n",
       "4                   5         23.5       1306"
      ]
     },
     "execution_count": 21,
     "metadata": {},
     "output_type": "execute_result"
    }
   ],
   "source": [
    "df = pd.read_csv('data.csv')\n",
    "df.head()"
   ]
  },
  {
   "cell_type": "code",
   "execution_count": 22,
   "metadata": {},
   "outputs": [
    {
     "data": {
      "text/html": [
       "<div>\n",
       "<style scoped>\n",
       "    .dataframe tbody tr th:only-of-type {\n",
       "        vertical-align: middle;\n",
       "    }\n",
       "\n",
       "    .dataframe tbody tr th {\n",
       "        vertical-align: top;\n",
       "    }\n",
       "\n",
       "    .dataframe thead th {\n",
       "        text-align: right;\n",
       "    }\n",
       "</style>\n",
       "<table border=\"1\" class=\"dataframe\">\n",
       "  <thead>\n",
       "    <tr style=\"text-align: right;\">\n",
       "      <th>temperature</th>\n",
       "      <th>23.5</th>\n",
       "      <th>23.5shifted</th>\n",
       "      <th>35.0</th>\n",
       "      <th>35.0shifted</th>\n",
       "      <th>43.0</th>\n",
       "      <th>43.0shifted</th>\n",
       "      <th>49.0</th>\n",
       "      <th>49.0shifted</th>\n",
       "      <th>57.0</th>\n",
       "      <th>57.0shifted</th>\n",
       "    </tr>\n",
       "    <tr>\n",
       "      <th>measurement_number</th>\n",
       "      <th></th>\n",
       "      <th></th>\n",
       "      <th></th>\n",
       "      <th></th>\n",
       "      <th></th>\n",
       "      <th></th>\n",
       "      <th></th>\n",
       "      <th></th>\n",
       "      <th></th>\n",
       "      <th></th>\n",
       "    </tr>\n",
       "  </thead>\n",
       "  <tbody>\n",
       "    <tr>\n",
       "      <th>1</th>\n",
       "      <td>448</td>\n",
       "      <td>0</td>\n",
       "      <td>456</td>\n",
       "      <td>0</td>\n",
       "      <td>462</td>\n",
       "      <td>0</td>\n",
       "      <td>466</td>\n",
       "      <td>0</td>\n",
       "      <td>472</td>\n",
       "      <td>0</td>\n",
       "    </tr>\n",
       "    <tr>\n",
       "      <th>2</th>\n",
       "      <td>660</td>\n",
       "      <td>212</td>\n",
       "      <td>671</td>\n",
       "      <td>215</td>\n",
       "      <td>679</td>\n",
       "      <td>217</td>\n",
       "      <td>687</td>\n",
       "      <td>221</td>\n",
       "      <td>694</td>\n",
       "      <td>222</td>\n",
       "    </tr>\n",
       "    <tr>\n",
       "      <th>3</th>\n",
       "      <td>874</td>\n",
       "      <td>426</td>\n",
       "      <td>890</td>\n",
       "      <td>434</td>\n",
       "      <td>899</td>\n",
       "      <td>437</td>\n",
       "      <td>908</td>\n",
       "      <td>442</td>\n",
       "      <td>920</td>\n",
       "      <td>448</td>\n",
       "    </tr>\n",
       "    <tr>\n",
       "      <th>4</th>\n",
       "      <td>1088</td>\n",
       "      <td>640</td>\n",
       "      <td>1109</td>\n",
       "      <td>653</td>\n",
       "      <td>1121</td>\n",
       "      <td>659</td>\n",
       "      <td>1134</td>\n",
       "      <td>668</td>\n",
       "      <td>1146</td>\n",
       "      <td>674</td>\n",
       "    </tr>\n",
       "    <tr>\n",
       "      <th>5</th>\n",
       "      <td>1306</td>\n",
       "      <td>858</td>\n",
       "      <td>1330</td>\n",
       "      <td>874</td>\n",
       "      <td>1345</td>\n",
       "      <td>883</td>\n",
       "      <td>1359</td>\n",
       "      <td>893</td>\n",
       "      <td>1376</td>\n",
       "      <td>904</td>\n",
       "    </tr>\n",
       "    <tr>\n",
       "      <th>6</th>\n",
       "      <td>1522</td>\n",
       "      <td>1074</td>\n",
       "      <td>1550</td>\n",
       "      <td>1094</td>\n",
       "      <td>1568</td>\n",
       "      <td>1106</td>\n",
       "      <td>1584</td>\n",
       "      <td>1118</td>\n",
       "      <td>1604</td>\n",
       "      <td>1132</td>\n",
       "    </tr>\n",
       "    <tr>\n",
       "      <th>7</th>\n",
       "      <td>1738</td>\n",
       "      <td>1290</td>\n",
       "      <td>1771</td>\n",
       "      <td>1315</td>\n",
       "      <td>1791</td>\n",
       "      <td>1329</td>\n",
       "      <td>1810</td>\n",
       "      <td>1344</td>\n",
       "      <td>1831</td>\n",
       "      <td>1359</td>\n",
       "    </tr>\n",
       "    <tr>\n",
       "      <th>8</th>\n",
       "      <td>1954</td>\n",
       "      <td>1506</td>\n",
       "      <td>1989</td>\n",
       "      <td>1533</td>\n",
       "      <td>2014</td>\n",
       "      <td>1552</td>\n",
       "      <td>2034</td>\n",
       "      <td>1568</td>\n",
       "      <td>2058</td>\n",
       "      <td>1586</td>\n",
       "    </tr>\n",
       "    <tr>\n",
       "      <th>9</th>\n",
       "      <td>2170</td>\n",
       "      <td>1722</td>\n",
       "      <td>2210</td>\n",
       "      <td>1754</td>\n",
       "      <td>2238</td>\n",
       "      <td>1776</td>\n",
       "      <td>2259</td>\n",
       "      <td>1793</td>\n",
       "      <td>2286</td>\n",
       "      <td>1814</td>\n",
       "    </tr>\n",
       "    <tr>\n",
       "      <th>10</th>\n",
       "      <td>2387</td>\n",
       "      <td>1939</td>\n",
       "      <td>2431</td>\n",
       "      <td>1975</td>\n",
       "      <td>2462</td>\n",
       "      <td>2000</td>\n",
       "      <td>2485</td>\n",
       "      <td>2019</td>\n",
       "      <td>2515</td>\n",
       "      <td>2043</td>\n",
       "    </tr>\n",
       "  </tbody>\n",
       "</table>\n",
       "</div>"
      ],
      "text/plain": [
       "temperature         23.5  23.5shifted  35.0  35.0shifted  43.0  43.0shifted  \\\n",
       "measurement_number                                                            \n",
       "1                    448            0   456            0   462            0   \n",
       "2                    660          212   671          215   679          217   \n",
       "3                    874          426   890          434   899          437   \n",
       "4                   1088          640  1109          653  1121          659   \n",
       "5                   1306          858  1330          874  1345          883   \n",
       "6                   1522         1074  1550         1094  1568         1106   \n",
       "7                   1738         1290  1771         1315  1791         1329   \n",
       "8                   1954         1506  1989         1533  2014         1552   \n",
       "9                   2170         1722  2210         1754  2238         1776   \n",
       "10                  2387         1939  2431         1975  2462         2000   \n",
       "\n",
       "temperature         49.0  49.0shifted  57.0  57.0shifted  \n",
       "measurement_number                                        \n",
       "1                    466            0   472            0  \n",
       "2                    687          221   694          222  \n",
       "3                    908          442   920          448  \n",
       "4                   1134          668  1146          674  \n",
       "5                   1359          893  1376          904  \n",
       "6                   1584         1118  1604         1132  \n",
       "7                   1810         1344  1831         1359  \n",
       "8                   2034         1568  2058         1586  \n",
       "9                   2259         1793  2286         1814  \n",
       "10                  2485         2019  2515         2043  "
      ]
     },
     "execution_count": 22,
     "metadata": {},
     "output_type": "execute_result"
    }
   ],
   "source": [
    "measurements_table = df.pivot_table(values='frequency',\n",
    "                                    index='measurement_number',\n",
    "                                    columns='temperature').astype('int')\n",
    "\n",
    "temperatures = measurements_table.columns \\\n",
    "          .to_series(name='temperature') \\\n",
    "          .astype('str') \\\n",
    "          .replace(to_replace = \"\\.0+$\",value = \"\", regex = True) \\\n",
    "          .to_csv(f'{output_dir}/temperatures.csv', index=False)\n",
    "new_cols = [x for col in measurements_table.columns \\\n",
    "            for x in (col, str(col)+\"shifted\")]\n",
    "for col in measurements_table.columns:\n",
    "  col_mnts = measurements_table[col]\n",
    "  measurements_table[str(col)+\"shifted\"] = col_mnts - col_mnts.min()\n",
    "\n",
    "measurements_table = measurements_table[new_cols]\n",
    "measurements_table.to_csv(f'{output_dir}/measurements_table.csv')\n",
    "measurements_table"
   ]
  },
  {
   "cell_type": "code",
   "execution_count": 23,
   "metadata": {},
   "outputs": [],
   "source": [
    "# subtract minimum frequency for each series of measurements\n",
    "df.frequency = df.groupby('temperature')['frequency'] \\\n",
    "                .transform(lambda x: x - min(x))\n",
    "# measurements in 0-indexation\n",
    "df.measurement_number = df.measurement_number - 1"
   ]
  },
  {
   "cell_type": "markdown",
   "metadata": {},
   "source": [
    "#### Constants"
   ]
  },
  {
   "cell_type": "code",
   "execution_count": 24,
   "metadata": {},
   "outputs": [],
   "source": [
    "# length of the tube (m)\n",
    "LENGTH = 0.8\n",
    "LENGTH_ERROR = 0.001\n",
    "# gas constant\n",
    "R = 8.31\n",
    "# 0 celsium in kelvin\n",
    "TRIPLE_POINT = 273.16\n",
    "# molar mass of air (g/mol)\n",
    "MU = 0.029\n",
    "# thermostat temperature error\n",
    "TEMP_ERROR = 0.02"
   ]
  },
  {
   "cell_type": "code",
   "execution_count": 25,
   "metadata": {},
   "outputs": [],
   "source": [
    "def calculate_min_max_slope(x: pd.Series, y: pd.Series,\n",
    "                            y_error: pd.Series, fit_intercept=True) -> tuple[int, int]:\n",
    "  \"\"\"\n",
    "    Calcucate slope's error\n",
    "  \"\"\"\n",
    "\n",
    "  if fit_intercept:\n",
    "    pivot = x.mean()\n",
    "  else:\n",
    "    pivot = 0\n",
    "  lm = LinearRegression(fit_intercept=fit_intercept)\n",
    "  y_pos = y + y_error\n",
    "  y_neg = y - y_error\n",
    "\n",
    "  # max slope\n",
    "  y = y_pos.copy()\n",
    "  y[x < pivot] = y_neg[x < pivot]\n",
    "  lm.fit(np.array(x).reshape(-1, 1), y)\n",
    "  max_slope = lm.coef_[0]\n",
    "\n",
    "  # min slope\n",
    "  y = y_neg.copy()\n",
    "  y[x < pivot] = y_pos[x < pivot]\n",
    "  lm.fit(np.array(x).reshape(-1, 1), y)\n",
    "  min_slope = lm.coef_[0]\n",
    "  return (min_slope, max_slope)"
   ]
  },
  {
   "cell_type": "code",
   "execution_count": 26,
   "metadata": {},
   "outputs": [
    {
     "data": {
      "image/png": "[encoded data removed]",
      "text/plain": [
       "<Figure size 800x500 with 1 Axes>"
      ]
     },
     "metadata": {},
     "output_type": "display_data"
    }
   ],
   "source": [
    "def plot_scatter_trendline(x, y, label, fit_intercept=True):\n",
    "  \"\"\"\n",
    "  Plot frequency depending on measurement index\n",
    "  \"\"\"\n",
    "  lm = LinearRegression(fit_intercept=fit_intercept)\n",
    "  lm.fit(np.array(x).reshape(-1, 1), y)\n",
    "\n",
    "  x_pred = np.linspace(x.min(), x.max(), 100).reshape(-1, 1)\n",
    "  y_pred = lm.predict(x_pred)\n",
    "\n",
    "  plt.scatter(x, y, s=2, zorder=10)\n",
    "  plt.plot(x_pred, y_pred, label=label)\n",
    "  return lm\n",
    "\n",
    "speed_of_sound = []\n",
    "\n",
    "plt.figure(figsize=(8, 5))\n",
    "for temperature in df.temperature.unique():\n",
    "  x = df[df.temperature == temperature].measurement_number\n",
    "  y = df[df.temperature == temperature].frequency\n",
    "  lm = plot_scatter_trendline(x, y, label=str(temperature), fit_intercept=False)\n",
    "\n",
    "  error = y.copy()\n",
    "  error = 2\n",
    "  # calculating speed of sound error (min value and max value)\n",
    "  min_slope, max_slope = calculate_min_max_slope(x, y, error, fit_intercept=False)\n",
    "  speed_of_sound.append({\n",
    "    'temperature': temperature,\n",
    "    'speed_of_sound': 2 * LENGTH * lm.coef_[0],\n",
    "    'low_bar': 2 * (LENGTH - LENGTH_ERROR) * min_slope,\n",
    "    'high_bar': 2 * (LENGTH + LENGTH_ERROR) * max_slope\n",
    "  })\n",
    "\n",
    "speed_of_sound_df = pd.DataFrame(speed_of_sound).set_index('temperature')\n",
    "\n",
    "plt.legend(title=\"Температура\" + r\", \\textcelsius\")\n",
    "plt.xlabel('Номер резонанса')\n",
    "plt.ylabel(r'Частота резонанса $f_k$, Гц')\n",
    "plt.savefig(f'{output_dir}/frequencies.pgf')\n",
    "plt.show()"
   ]
  },
  {
   "cell_type": "code",
   "execution_count": 27,
   "metadata": {},
   "outputs": [
    {
     "data": {
      "text/html": [
       "<div>\n",
       "<style scoped>\n",
       "    .dataframe tbody tr th:only-of-type {\n",
       "        vertical-align: middle;\n",
       "    }\n",
       "\n",
       "    .dataframe tbody tr th {\n",
       "        vertical-align: top;\n",
       "    }\n",
       "\n",
       "    .dataframe thead th {\n",
       "        text-align: right;\n",
       "    }\n",
       "</style>\n",
       "<table border=\"1\" class=\"dataframe\">\n",
       "  <thead>\n",
       "    <tr style=\"text-align: right;\">\n",
       "      <th></th>\n",
       "      <th>speed_of_sound</th>\n",
       "      <th>low_bar</th>\n",
       "      <th>high_bar</th>\n",
       "    </tr>\n",
       "    <tr>\n",
       "      <th>temperature</th>\n",
       "      <th></th>\n",
       "      <th></th>\n",
       "      <th></th>\n",
       "    </tr>\n",
       "  </thead>\n",
       "  <tbody>\n",
       "    <tr>\n",
       "      <th>23.5</th>\n",
       "      <td>344.112281</td>\n",
       "      <td>343.177509</td>\n",
       "      <td>345.048316</td>\n",
       "    </tr>\n",
       "    <tr>\n",
       "      <th>35.0</th>\n",
       "      <td>350.517895</td>\n",
       "      <td>349.575116</td>\n",
       "      <td>351.461937</td>\n",
       "    </tr>\n",
       "    <tr>\n",
       "      <th>43.0</th>\n",
       "      <td>354.672281</td>\n",
       "      <td>353.724309</td>\n",
       "      <td>355.621516</td>\n",
       "    </tr>\n",
       "    <tr>\n",
       "      <th>49.0</th>\n",
       "      <td>358.321404</td>\n",
       "      <td>357.368870</td>\n",
       "      <td>359.275200</td>\n",
       "    </tr>\n",
       "    <tr>\n",
       "      <th>57.0</th>\n",
       "      <td>362.503860</td>\n",
       "      <td>361.546098</td>\n",
       "      <td>363.462884</td>\n",
       "    </tr>\n",
       "  </tbody>\n",
       "</table>\n",
       "</div>"
      ],
      "text/plain": [
       "             speed_of_sound     low_bar    high_bar\n",
       "temperature                                        \n",
       "23.5             344.112281  343.177509  345.048316\n",
       "35.0             350.517895  349.575116  351.461937\n",
       "43.0             354.672281  353.724309  355.621516\n",
       "49.0             358.321404  357.368870  359.275200\n",
       "57.0             362.503860  361.546098  363.462884"
      ]
     },
     "execution_count": 27,
     "metadata": {},
     "output_type": "execute_result"
    }
   ],
   "source": [
    "speed_of_sound_df"
   ]
  },
  {
   "cell_type": "code",
   "execution_count": 28,
   "metadata": {},
   "outputs": [
    {
     "name": "stdout",
     "output_type": "stream",
     "text": [
      "0\n"
     ]
    },
    {
     "data": {
      "image/png": "[encoded data removed]",
      "text/plain": [
       "<Figure size 800x400 with 1 Axes>"
      ]
     },
     "metadata": {},
     "output_type": "display_data"
    }
   ],
   "source": [
    "def plot_speed_of_sound(df):\n",
    "  \"\"\"\n",
    "  Plot speed of sound depending on temperature\n",
    "  \"\"\"\n",
    "  x = df.temperature\n",
    "  y = df.speed_of_sound\n",
    "  yerr = pd.concat([y - df.low_bar, df.high_bar - y], axis=1)\n",
    "\n",
    "  lm = LinearRegression()\n",
    "  print(0)\n",
    "  lm.fit(np.array(x).reshape(-1, 1), y)\n",
    "\n",
    "  x_pred = np.linspace(x.min(), x.max(), 100).reshape(-1, 1)\n",
    "  y_pred = lm.predict(x_pred)\n",
    "\n",
    "  plt.plot(x_pred, y_pred)\n",
    "  plt.errorbar(x, y, yerr=yerr.transpose(), xerr=0.2, ls='None', ecolor='red')\n",
    "  plt.scatter(x, y, s=5, c='black', zorder=10)\n",
    "  return lm\n",
    "\n",
    "\n",
    "plt.figure(figsize=(8, 4))\n",
    "speed_of_sound_estimator = plot_speed_of_sound(speed_of_sound_df.reset_index())\n",
    "\n",
    "plt.xlabel(r'Температура $T$, \\textcelsius')\n",
    "plt.ylabel(r'Скорость звука $c$, м/c')\n",
    "plt.savefig(f'{output_dir}/speed_of_sound.pgf')\n",
    "plt.show()"
   ]
  },
  {
   "cell_type": "code",
   "execution_count": 29,
   "metadata": {},
   "outputs": [
    {
     "data": {
      "text/html": [
       "<div>\n",
       "<style scoped>\n",
       "    .dataframe tbody tr th:only-of-type {\n",
       "        vertical-align: middle;\n",
       "    }\n",
       "\n",
       "    .dataframe tbody tr th {\n",
       "        vertical-align: top;\n",
       "    }\n",
       "\n",
       "    .dataframe thead th {\n",
       "        text-align: right;\n",
       "    }\n",
       "</style>\n",
       "<table border=\"1\" class=\"dataframe\">\n",
       "  <thead>\n",
       "    <tr style=\"text-align: right;\">\n",
       "      <th>temperature</th>\n",
       "      <th>23.5</th>\n",
       "      <th>35</th>\n",
       "      <th>43</th>\n",
       "      <th>49</th>\n",
       "      <th>57</th>\n",
       "    </tr>\n",
       "  </thead>\n",
       "  <tbody>\n",
       "    <tr>\n",
       "      <th>0</th>\n",
       "      <td>{344.11 $\\pm$ 0.94}</td>\n",
       "      <td>{350.52 $\\pm$ 0.94}</td>\n",
       "      <td>{354.67 $\\pm$ 0.95}</td>\n",
       "      <td>{358.32 $\\pm$ 0.95}</td>\n",
       "      <td>{362.5 $\\pm$ 0.96}</td>\n",
       "    </tr>\n",
       "  </tbody>\n",
       "</table>\n",
       "</div>"
      ],
      "text/plain": [
       "temperature                 23.5                   35                   43  \\\n",
       "0            {344.11 $\\pm$ 0.94}  {350.52 $\\pm$ 0.94}  {354.67 $\\pm$ 0.95}   \n",
       "\n",
       "temperature                   49                  57  \n",
       "0            {358.32 $\\pm$ 0.95}  {362.5 $\\pm$ 0.96}  "
      ]
     },
     "execution_count": 29,
     "metadata": {},
     "output_type": "execute_result"
    }
   ],
   "source": [
    "# Output latex-formatted table (speed_of_sound.csv)\n",
    "speed_of_sound_df[\"mean_error\"] = \\\n",
    "  (speed_of_sound_df.high_bar - speed_of_sound_df.low_bar) / 2\n",
    "speed_of_sound_df_out = speed_of_sound_df.copy() \\\n",
    "      .reset_index() \\\n",
    "      .drop(columns=['low_bar', 'high_bar']) \\\n",
    "      .round(2) \\\n",
    "      .astype(str) \\\n",
    "      .replace(to_replace = \"\\.0+$\",value = \"\", regex = True) \\\n",
    "      .set_index('temperature')\n",
    "speed_of_sound_df_out =  (\"{\" + speed_of_sound_df_out.speed_of_sound +\n",
    "    r\" $\\pm$ \" + speed_of_sound_df_out.mean_error + \"}\").to_frame().transpose()\n",
    "\n",
    "speed_of_sound_df_out.to_csv(f\"{output_dir}/speed_of_sound.csv\")\n",
    "speed_of_sound_df_out"
   ]
  },
  {
   "cell_type": "markdown",
   "metadata": {},
   "source": [
    "Погрешность скорости звука:"
   ]
  },
  {
   "cell_type": "code",
   "execution_count": 30,
   "metadata": {},
   "outputs": [
    {
     "data": {
      "text/plain": [
       "mean    0.947795\n",
       "std     0.008868\n",
       "Name: mean_error, dtype: float64"
      ]
     },
     "execution_count": 30,
     "metadata": {},
     "output_type": "execute_result"
    }
   ],
   "source": [
    "speed_of_sound_df.mean_error.agg(['mean', 'std'])"
   ]
  },
  {
   "cell_type": "code",
   "execution_count": 31,
   "metadata": {},
   "outputs": [
    {
     "name": "stdout",
     "output_type": "stream",
     "text": [
      "At 20 degrees celsium:\n",
      "342.1975887086136\n",
      "Difference with real (343.1 celsium):\n",
      "0.9024112913864428\n",
      "Error:\n",
      "0.002630169896200649\n"
     ]
    }
   ],
   "source": [
    "c = speed_of_sound_estimator.predict(np.array([[20]]))[0]\n",
    "print('At 20 degrees celsium:')\n",
    "print(c)\n",
    "print('Difference with real (343.1 celsium):')\n",
    "print(343.1 - c)\n",
    "print(\"Error:\")\n",
    "print((343.1 - c) / 343.1)"
   ]
  },
  {
   "cell_type": "markdown",
   "metadata": {},
   "source": [
    "Показатель адиабаты:\n",
    "$$ \\gamma = \\frac{\\mu}{RT}c^2 $$"
   ]
  },
  {
   "cell_type": "code",
   "execution_count": 32,
   "metadata": {},
   "outputs": [
    {
     "data": {
      "text/html": [
       "<div>\n",
       "<style scoped>\n",
       "    .dataframe tbody tr th:only-of-type {\n",
       "        vertical-align: middle;\n",
       "    }\n",
       "\n",
       "    .dataframe tbody tr th {\n",
       "        vertical-align: top;\n",
       "    }\n",
       "\n",
       "    .dataframe thead th {\n",
       "        text-align: right;\n",
       "    }\n",
       "</style>\n",
       "<table border=\"1\" class=\"dataframe\">\n",
       "  <thead>\n",
       "    <tr style=\"text-align: right;\">\n",
       "      <th></th>\n",
       "      <th>gamma</th>\n",
       "    </tr>\n",
       "    <tr>\n",
       "      <th>temperature</th>\n",
       "      <th></th>\n",
       "    </tr>\n",
       "  </thead>\n",
       "  <tbody>\n",
       "    <tr>\n",
       "      <th>23.5</th>\n",
       "      <td>1.392959</td>\n",
       "    </tr>\n",
       "    <tr>\n",
       "      <th>35.0</th>\n",
       "      <td>1.391365</td>\n",
       "    </tr>\n",
       "    <tr>\n",
       "      <th>43.0</th>\n",
       "      <td>1.388496</td>\n",
       "    </tr>\n",
       "    <tr>\n",
       "      <th>49.0</th>\n",
       "      <td>1.390820</td>\n",
       "    </tr>\n",
       "    <tr>\n",
       "      <th>57.0</th>\n",
       "      <td>1.388986</td>\n",
       "    </tr>\n",
       "  </tbody>\n",
       "</table>\n",
       "</div>"
      ],
      "text/plain": [
       "                gamma\n",
       "temperature          \n",
       "23.5         1.392959\n",
       "35.0         1.391365\n",
       "43.0         1.388496\n",
       "49.0         1.390820\n",
       "57.0         1.388986"
      ]
     },
     "execution_count": 32,
     "metadata": {},
     "output_type": "execute_result"
    }
   ],
   "source": [
    "# calculate isentropic expansion factor\n",
    "temperature = speed_of_sound_df.index.to_series()\n",
    "speed_of_sound = speed_of_sound_df.speed_of_sound\n",
    "gamma = MU * speed_of_sound ** 2 / (R * (temperature + TRIPLE_POINT))\n",
    "\n",
    "gamma.name = 'gamma'\n",
    "gamma = pd.concat([gamma, temperature], axis=1).set_index('temperature')\n",
    "gamma"
   ]
  },
  {
   "cell_type": "code",
   "execution_count": 33,
   "metadata": {},
   "outputs": [
    {
     "data": {
      "text/html": [
       "<div>\n",
       "<style scoped>\n",
       "    .dataframe tbody tr th:only-of-type {\n",
       "        vertical-align: middle;\n",
       "    }\n",
       "\n",
       "    .dataframe tbody tr th {\n",
       "        vertical-align: top;\n",
       "    }\n",
       "\n",
       "    .dataframe thead th {\n",
       "        text-align: right;\n",
       "    }\n",
       "</style>\n",
       "<table border=\"1\" class=\"dataframe\">\n",
       "  <thead>\n",
       "    <tr style=\"text-align: right;\">\n",
       "      <th>temperature</th>\n",
       "      <th>23.5</th>\n",
       "      <th>35</th>\n",
       "      <th>43</th>\n",
       "      <th>49</th>\n",
       "      <th>57</th>\n",
       "      <th>mean</th>\n",
       "      <th>std</th>\n",
       "    </tr>\n",
       "  </thead>\n",
       "  <tbody>\n",
       "    <tr>\n",
       "      <th>gamma</th>\n",
       "      <td>1.393</td>\n",
       "      <td>1.391</td>\n",
       "      <td>1.388</td>\n",
       "      <td>1.391</td>\n",
       "      <td>1.389</td>\n",
       "      <td>1.391</td>\n",
       "      <td>0.002</td>\n",
       "    </tr>\n",
       "  </tbody>\n",
       "</table>\n",
       "</div>"
      ],
      "text/plain": [
       "temperature   23.5     35     43     49     57   mean    std\n",
       "gamma        1.393  1.391  1.388  1.391  1.389  1.391  0.002"
      ]
     },
     "execution_count": 33,
     "metadata": {},
     "output_type": "execute_result"
    }
   ],
   "source": [
    "# output gamma to gamma.csv\n",
    "gamma_out = gamma.round(3).reset_index()\\\n",
    "    .astype(str) \\\n",
    "    .replace(to_replace = \"\\.0+$\",value = \"\", regex = True) \\\n",
    "    .set_index('temperature').T\n",
    "gamma_out['mean'] = gamma.mean()\n",
    "gamma_out['std'] = gamma.std()\n",
    "gamma_out = gamma_out.round(3)\n",
    "gamma_out.to_csv(f'{output_dir}/gamma.csv')\n",
    "gamma_out"
   ]
  },
  {
   "cell_type": "markdown",
   "metadata": {},
   "source": [
    "Погрешность показателя адиабаты:"
   ]
  },
  {
   "cell_type": "code",
   "execution_count": 34,
   "metadata": {},
   "outputs": [
    {
     "data": {
      "text/plain": [
       "0.007795491989252491"
      ]
     },
     "execution_count": 34,
     "metadata": {},
     "output_type": "execute_result"
    }
   ],
   "source": [
    "temp_eps = TEMP_ERROR / TRIPLE_POINT\n",
    "speed_of_sound_eps = speed_of_sound_df.mean_error.mean() / 343.1\n",
    "gamma_eps = (1 + speed_of_sound_eps) ** 2 / (1 - temp_eps) - 1\n",
    "gamma_eps * gamma.mean().values[0]"
   ]
  },
  {
   "cell_type": "code",
   "execution_count": 35,
   "metadata": {},
   "outputs": [
    {
     "data": {
      "text/html": [
       "<div>\n",
       "<style scoped>\n",
       "    .dataframe tbody tr th:only-of-type {\n",
       "        vertical-align: middle;\n",
       "    }\n",
       "\n",
       "    .dataframe tbody tr th {\n",
       "        vertical-align: top;\n",
       "    }\n",
       "\n",
       "    .dataframe thead th {\n",
       "        text-align: right;\n",
       "    }\n",
       "</style>\n",
       "<table border=\"1\" class=\"dataframe\">\n",
       "  <thead>\n",
       "    <tr style=\"text-align: right;\">\n",
       "      <th></th>\n",
       "      <th>gamma</th>\n",
       "    </tr>\n",
       "  </thead>\n",
       "  <tbody>\n",
       "    <tr>\n",
       "      <th>mean</th>\n",
       "      <td>1.390525</td>\n",
       "    </tr>\n",
       "    <tr>\n",
       "      <th>std</th>\n",
       "      <td>0.001817</td>\n",
       "    </tr>\n",
       "  </tbody>\n",
       "</table>\n",
       "</div>"
      ],
      "text/plain": [
       "         gamma\n",
       "mean  1.390525\n",
       "std   0.001817"
      ]
     },
     "execution_count": 35,
     "metadata": {},
     "output_type": "execute_result"
    }
   ],
   "source": [
    "# statistical error and mean\n",
    "gamma.agg(['mean', 'std'])"
   ]
  },
  {
   "cell_type": "markdown",
   "metadata": {},
   "source": [
    "$$ \\gamma = 1.391 \\pm 0.01$$"
   ]
  }
 ],
 "metadata": {
  "kernelspec": {
   "display_name": "DSIntro",
   "language": "python",
   "name": "dsintro"
  },
  "language_info": {
   "codemirror_mode": {
    "name": "ipython",
    "version": 3
   },
   "file_extension": ".py",
   "mimetype": "text/x-python",
   "name": "python",
   "nbconvert_exporter": "python",
   "pygments_lexer": "ipython3",
   "version": "3.10.13"
  }
 },
 "nbformat": 4,
 "nbformat_minor": 2
}
