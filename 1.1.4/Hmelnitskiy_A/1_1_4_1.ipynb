{
  "nbformat": 4,
  "nbformat_minor": 0,
  "metadata": {
    "colab": {
      "provenance": []
    },
    "kernelspec": {
      "name": "python3",
      "display_name": "Python 3"
    },
    "language_info": {
      "name": "python"
    }
  },
  "cells": [
    {
      "cell_type": "code",
      "execution_count": 11,
      "metadata": {
        "id": "ABP1VEBiDWyy",
        "outputId": "735305e7-4fbb-4806-d3c5-d349ce3e4854",
        "colab": {
          "base_uri": "https://localhost:8080/"
        }
      },
      "outputs": [
        {
          "output_type": "stream",
          "name": "stdout",
          "text": [
            "200\n"
          ]
        }
      ],
      "source": [
        "x = []\n",
        "y = []\n",
        "z = []\n",
        "file = open('W_20.txt', 'r')\n",
        "while (line := file.readline()):\n",
        "  s = line.split()\n",
        "#    if (len(s) != 0):\n",
        "#      x.append(int(s[0]))\n",
        "#      y.append(float(s[1].replace(',', '.')))\n",
        "#      z.append(float(s[2].replace(',', '.')))\n",
        "#for i in range(len(x)):\n",
        "#  print(x[i], y[i], z[i])\n",
        "#    s = line.split(',')\n",
        "  for i in range(len(s)):\n",
        "    if (s[i].strip('\\n').strip(' ') != ''):\n",
        "      x.append(int(s[i].strip('\\n').strip(' ')))\n",
        "#for i in range(10):\n",
        "#  for j in range(10):\n",
        " #   print(x[i*10+j], end = ' ')\n",
        "  #print()\n",
        "counter = 0\n",
        "\n",
        "for i in range(len(x)):\n",
        "  if ((x[i] > 26.48 - 14.28)and(x[i] < 26.48 + 14.28)):\n",
        "    counter = counter + 1\n",
        "\n",
        "print(counter)"
      ]
    },
    {
      "cell_type": "code",
      "source": [],
      "metadata": {
        "id": "X_xtJdgO3A9Y"
      },
      "execution_count": null,
      "outputs": []
    }
  ]
}