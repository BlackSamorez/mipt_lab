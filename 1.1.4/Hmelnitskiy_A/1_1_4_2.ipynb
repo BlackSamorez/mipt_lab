{
  "nbformat": 4,
  "nbformat_minor": 0,
  "metadata": {
    "colab": {
      "provenance": []
    },
    "kernelspec": {
      "name": "python3",
      "display_name": "Python 3"
    },
    "language_info": {
      "name": "python"
    }
  },
  "cells": [
    {
      "cell_type": "code",
      "execution_count": 7,
      "metadata": {
        "colab": {
          "base_uri": "https://localhost:8080/"
        },
        "id": "-kL01SeF7woZ",
        "outputId": "c12b66ab-7fde-49a9-f63f-7b64829d1806"
      },
      "outputs": [
        {
          "output_type": "stream",
          "name": "stdout",
          "text": [
            "6.059570941906696\n"
          ]
        }
      ],
      "source": [
        "from matplotlib import pyplot as plt\n",
        "import numpy as np\n",
        "from math import *\n",
        "\n",
        "data_20 = []\n",
        "data_40 = []\n",
        "file = open('data1.txt', 'r')\n",
        "for i in range(20):\n",
        "    line = file.readline()\n",
        "    s = line.split()\n",
        "    for i in range(len(s)):\n",
        "      data_20.append(int(s[i]))\n",
        "data_40.append(data_20[0] + data_20[1])\n",
        "summ = 0\n",
        "for i in range(2, len(data_20)):\n",
        "  summ += data_20[i]\n",
        "  if ((i != 0)and(i % 2 != 0)):\n",
        "    data_40.append(summ)\n",
        "    summ = 0\n",
        "\n",
        "sr_znach  = 0;\n",
        "for i in range(len(data_20)):\n",
        "  sr_znach += data_20[i]\n",
        "\n",
        "sr_znach = sr_znach/len(data_20)\n",
        "\n",
        "sr_quadro = 0\n",
        "for i in range(len(data_20)):\n",
        "  sr_quadro += (data_20[i]-sr_znach)**2\n",
        "\n",
        "sr_quadro = sqrt(sr_quadro/len(data_20))\n",
        "\n",
        "print(sr_quadro)"
      ]
    }
  ]
}