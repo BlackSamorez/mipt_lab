{
 "cells": [
  {
   "cell_type": "markdown",
   "id": "37eaf352",
   "metadata": {},
   "source": [
    "# Пособие по использованию блока advanced_functions"
   ]
  },
  {
   "cell_type": "markdown",
   "id": "92e447b7",
   "metadata": {},
   "source": [
    "## Оглавление"
   ]
  },
  {
   "cell_type": "markdown",
   "id": "fdcc6830",
   "metadata": {},
   "source": [
    "1. [__Функция slicer__](#Функция-slicer) Создание списка индексов\n",
    "    - [Обязательные параметры:](#Обязательные-параметры:)\n",
    "    - [Необязательные параметры:](#Необязательные-параметры:)\n",
    "    \n",
    "    \n",
    "2. [__Функция sorting__](#Функция-sorting) Сортировка GroupVar'ов\n",
    "    - [Обязательные параметры:](#Обязательные-параметры:)\n",
    "    \n",
    "    \n",
    "3. [__Функция smoothing__](#Функция-smoothing) Строит \"сглаженную\" функцию через заданные точки.\n",
    "    - [Обязательные параметры:](#Обязательные-параметры)\n",
    "    \n",
    "    \n",
    "4. [__Функции fmin и fmax__](#Функции-fmin-и-fmax) Ищет точки экстремума.\n",
    "    - [Обязательные параметры:](#Обязательные-параметры)\n",
    "    - [Необязательные параметры:](#Необязательные-параметры)\n",
    "\n",
    "\n",
    "5. [__Функция curve_fit__](#Функция-curve_fit) Аппроксимирует любую прямую к заданным точкам.\n",
    "    - [Обязательные параметры:](#Обязательные-параметры)\n",
    "    \n",
    "    \n",
    "6. [__Функция sigma__](#Функция-sigma) Считает отклонение точек от массива.\n",
    "    - [Обязательные параметры:](#Обязательные-параметры)"
   ]
  },
  {
   "cell_type": "markdown",
   "id": "3ac016a5",
   "metadata": {},
   "source": [
    "Данное пособие поможет вам ознакомиться с дополнительным функционалом lab_cheat. \n",
    "\n",
    "__Важное замечание!__ Функции данного блока не импортируются при `from lab_cheat import *`, используйте \n",
    "`from lab_cheat.advanced_functions import ФУНКЦИЯ`."
   ]
  },
  {
   "cell_type": "markdown",
   "id": "af5db242",
   "metadata": {},
   "source": [
    "## Функция slicer"
   ]
  },
  {
   "cell_type": "markdown",
   "id": "1f9e4366",
   "metadata": {},
   "source": [
    "Данная функция создаёт список индексов переменных, лежащих в заданном промежутке, исключая точки, наиблизжайшие к значениям из чёрного списка, может быть использована для исключения _плохих_ измерений."
   ]
  },
  {
   "cell_type": "markdown",
   "id": "aa5e24b2",
   "metadata": {},
   "source": [
    "### Обязательные параметры (slicer):"
   ]
  },
  {
   "cell_type": "markdown",
   "id": "bb78f0f5",
   "metadata": {},
   "source": [
    "- __varc__ - GroupVar с переменными, в котором нужно отсечь часть"
   ]
  },
  {
   "cell_type": "markdown",
   "id": "66362eeb",
   "metadata": {},
   "source": [
    "### Необязательные параметры (slicer):"
   ]
  },
  {
   "cell_type": "markdown",
   "id": "5477b2db",
   "metadata": {},
   "source": [
    "- __left_val__ - Левая граница, если не передана, то $-\\infty$\n",
    "- __right_val__ - Правая граница, если не передана, то $+\\infty$"
   ]
  },
  {
   "cell_type": "markdown",
   "id": "9cf816b2",
   "metadata": {},
   "source": [
    "### Выходящие данные (slicer):"
   ]
  },
  {
   "cell_type": "markdown",
   "id": "6625c34a",
   "metadata": {},
   "source": [
    "Выводит список с индексами элементов, удовлетворящих условиям среза.\n"
   ]
  },
  {
   "cell_type": "code",
   "execution_count": 3,
   "id": "7a3aba08",
   "metadata": {},
   "outputs": [
    {
     "data": {
      "text/plain": [
       "[2.0, 4.0, 5.0, 7.0, 8.0]"
      ]
     },
     "execution_count": 3,
     "metadata": {},
     "output_type": "execute_result"
    }
   ],
   "source": [
    "from lab_cheat import *\n",
    "from lab_cheat.advanced_functions import slicer\n",
    "v = GroupVar(range(10), 0)\n",
    "s = slicer(v, left_val=1.1, right_val=8, excluding=[3.1, 6.3, 0])\n",
    "v[s].val()"
   ]
  },
  {
   "cell_type": "markdown",
   "id": "69de4b76",
   "metadata": {},
   "source": [
    "## Функция sorting"
   ]
  },
  {
   "cell_type": "markdown",
   "id": "7f6bcbcc",
   "metadata": {},
   "source": [
    "Данная функция сортирует 2 GroupVar попарно, сохраняя соответствия между точками. Сортирует по абсциссам."
   ]
  },
  {
   "cell_type": "markdown",
   "id": "d9f833bb",
   "metadata": {},
   "source": [
    "### Обязательные параметры (sorting):"
   ]
  },
  {
   "cell_type": "markdown",
   "id": "777d83d0",
   "metadata": {},
   "source": [
    "- __x__ - Итерируемый объект с абсциссами точек\n",
    "- __y__ - Итерируемый объект с ординатами точек"
   ]
  },
  {
   "cell_type": "markdown",
   "id": "f0bea9f2",
   "metadata": {},
   "source": [
    "### Выходящие данные (sorting):"
   ]
  },
  {
   "cell_type": "markdown",
   "id": "6a9a5cdf",
   "metadata": {},
   "source": [
    "Кортеж с итерируемыми объектами (__x__, __y__)"
   ]
  },
  {
   "cell_type": "code",
   "execution_count": 1,
   "id": "047396f2",
   "metadata": {},
   "outputs": [
    {
     "data": {
      "text/plain": [
       "(['~1.0', '~2.0', '~4.0', '~5.0'], ['~1.0', '~3.0', '~4.0', '~2.0'])"
      ]
     },
     "execution_count": 1,
     "metadata": {},
     "output_type": "execute_result"
    }
   ],
   "source": [
    "from lab_cheat import *\n",
    "from lab_cheat.advanced_functions import sorting\n",
    "x = GroupVar([1, 5, 2, 4], 0)\n",
    "y = GroupVar([1, 2, 3, 4], 0)\n",
    "sorting(x, y)"
   ]
  },
  {
   "cell_type": "markdown",
   "id": "5e7d9984",
   "metadata": {},
   "source": [
    "## Функция smoothing"
   ]
  },
  {
   "cell_type": "markdown",
   "id": "49f109c1",
   "metadata": {},
   "source": [
    "Данная функция строит \"сглаженную\" функцию через заданные точки.\n"
   ]
  },
  {
   "cell_type": "markdown",
   "id": "c84d16c7",
   "metadata": {},
   "source": [
    "### Обязательные параметры"
   ]
  },
  {
   "cell_type": "markdown",
   "id": "1486d9c8",
   "metadata": {},
   "source": [
    "- __x__ - Итерируемый объект с абсциссами точек\n",
    "- __y__ - Итерируемый объект с ординатами точек\n",
    "- __smooth_factor__ - как сильно функция будет стараться быть \"гладкой\""
   ]
  },
  {
   "cell_type": "markdown",
   "id": "ca954171",
   "metadata": {},
   "source": [
    "### Входящие данные (smoothing)"
   ]
  },
  {
   "cell_type": "markdown",
   "id": "01c6eef9",
   "metadata": {},
   "source": [
    "Список координат точек по осям __x__ и __y__\n"
   ]
  },
  {
   "cell_type": "code",
   "execution_count": 14,
   "id": "940fe49b",
   "metadata": {},
   "outputs": [
    {
     "data": {
      "image/png": "[encoded data removed]",
      "text/plain": [
       "<Figure size 432x288 with 1 Axes>"
      ]
     },
     "metadata": {
      "needs_background": "light"
     },
     "output_type": "display_data"
    }
   ],
   "source": [
    "from lab_cheat import *\n",
    "import numpy as np\n",
    "from lab_cheat.advanced_functions import smoothing\n",
    "import matplotlib.pyplot as plt\n",
    "x = GroupVar([13, 12, 11, 10, 9, 8, 7, 6, 5, 4, 3, 2, 1], 0)\n",
    "y = GroupVar([2.404070, 1.588134, 1.760112, 1.771360, 1.860087,\n",
    "          1.955789, 1.910408, 1.655911, 1.778952, 2.624719,\n",
    "          1.698099, 3.022607, 3.303135], 0)\n",
    "f = smoothing(x, y, 0.5)\n",
    "xs = np.linspace(-3, 3, 1000)\n",
    "plt.plot(xs, f(xs), 'g', lw=3)\n",
    "plt.plot(xs, f(xs), 'b', lw=3)\n",
    "plt.show()"
   ]
  },
  {
   "cell_type": "markdown",
   "id": "b5750845",
   "metadata": {},
   "source": [
    "## Функции fmin и fmax"
   ]
  },
  {
   "cell_type": "markdown",
   "id": "b45619eb",
   "metadata": {},
   "source": [
    "Функции проводит аккуратный поиск минимума и, соответственно, максимума заданной функции. Работают аналогично друг другу."
   ]
  },
  {
   "cell_type": "markdown",
   "id": "edfd4b80",
   "metadata": {},
   "source": [
    "### Обязательные параметры"
   ]
  },
  {
   "cell_type": "markdown",
   "id": "1b4ddcd2",
   "metadata": {},
   "source": [
    "- __f__ - функция для поиска минимума или максимума\n",
    "- __x0__ - точка рядом с минимумом или максимумом"
   ]
  },
  {
   "cell_type": "markdown",
   "id": "1cb29ba1",
   "metadata": {},
   "source": [
    "### Необязательные параметры"
   ]
  },
  {
   "cell_type": "markdown",
   "id": "65178a94",
   "metadata": {},
   "source": [
    "- __x__ - абсциссы точек возле минимума или максимума\n",
    "- __y__ - абсциссы точек возле минимума или максимума"
   ]
  },
  {
   "cell_type": "markdown",
   "id": "389d0eef",
   "metadata": {},
   "source": [
    "### Выходящие данные"
   ]
  },
  {
   "cell_type": "markdown",
   "id": "43c71503",
   "metadata": {},
   "source": [
    "Абсцисса точки минимума функции."
   ]
  },
  {
   "cell_type": "code",
   "execution_count": 23,
   "id": "b30f3eba",
   "metadata": {},
   "outputs": [
    {
     "data": {
      "text/plain": [
       "0.48111328124999997"
      ]
     },
     "execution_count": 23,
     "metadata": {},
     "output_type": "execute_result"
    }
   ],
   "source": [
    "from lab_cheat import *\n",
    "from lab_cheat.advanced_functions import fmin\n",
    "fmin(lambda x: - x**(2) + x**(3) + x**(5), 0.46)"
   ]
  },
  {
   "cell_type": "markdown",
   "id": "3125a3ab",
   "metadata": {},
   "source": [
    "<div>\n",
    "<img src=\"Images/absciss_x0.png\" width=\"500\"/>\n",
    "</div>"
   ]
  },
  {
   "cell_type": "markdown",
   "id": "e1288921",
   "metadata": {},
   "source": [
    "## Функция curve_fit"
   ]
  },
  {
   "cell_type": "markdown",
   "id": "44231960",
   "metadata": {},
   "source": [
    "Функция аппроксимирует любую прямую к заданным точкам."
   ]
  },
  {
   "cell_type": "markdown",
   "id": "fc6e7864",
   "metadata": {},
   "source": [
    "### Обязательные параметры"
   ]
  },
  {
   "cell_type": "markdown",
   "id": "2459af57",
   "metadata": {},
   "source": [
    "- __f__ - функция, принимающая, помимо __x__ и другие параметры для аппроксимации\n",
    "- __x__ - Итерируемый объект с координатами точек по оси абсцисс\n",
    "- __y__ - Итерируемый объект с координатами точек по оси ординат\n",
    "- __p0__ - Итерируемый объект с начальными значениями аппроксимируемых параметров (Их количество на 1 меньше, чем значений, принимаемых функцией f)"
   ]
  },
  {
   "cell_type": "markdown",
   "id": "45fc606b",
   "metadata": {},
   "source": [
    "### Выходящие данные"
   ]
  },
  {
   "cell_type": "markdown",
   "id": "5edde57a",
   "metadata": {},
   "source": [
    "Подбирает параметры __k__ и __b__ для наилучшей аппроксимации к заданным точкам."
   ]
  },
  {
   "cell_type": "code",
   "execution_count": 40,
   "id": "edabba6e",
   "metadata": {},
   "outputs": [
    {
     "data": {
      "text/plain": [
       "['~1.9729729735629473', '~0.8918918911305257']"
      ]
     },
     "execution_count": 40,
     "metadata": {},
     "output_type": "execute_result"
    }
   ],
   "source": [
    "from lab_cheat import *\n",
    "import numpy as np\n",
    "from lab_cheat.advanced_functions import curve_fit\n",
    "x = GroupVar([0.3, 0.5, 2], 0)\n",
    "y = GroupVar([1.2, 2.2, 4.8], 0)\n",
    "p0 = np.array([2, 1])\n",
    "curve_fit(lambda x, k, b: k*x + b, x, y, p0)"
   ]
  },
  {
   "cell_type": "markdown",
   "id": "b02cc428",
   "metadata": {},
   "source": [
    "## Функция sigma"
   ]
  },
  {
   "cell_type": "markdown",
   "id": "c1e2a48c",
   "metadata": {},
   "source": [
    "Функция считает отклонение точек массива."
   ]
  },
  {
   "cell_type": "markdown",
   "id": "ee4aa54e",
   "metadata": {},
   "source": [
    "### Обязательные параметры"
   ]
  },
  {
   "cell_type": "markdown",
   "id": "fbe0dd76",
   "metadata": {},
   "source": [
    "- __variable__ - итерируемый объект с точками"
   ]
  },
  {
   "cell_type": "markdown",
   "id": "1e70da10",
   "metadata": {},
   "source": [
    "### Выходящие данные"
   ]
  },
  {
   "cell_type": "markdown",
   "id": "5483abc7",
   "metadata": {},
   "source": [
    "Дисперсия данных точек."
   ]
  },
  {
   "cell_type": "code",
   "execution_count": 42,
   "id": "88db3b39",
   "metadata": {},
   "outputs": [
    {
     "data": {
      "text/plain": [
       "2.8722813232690143"
      ]
     },
     "execution_count": 42,
     "metadata": {},
     "output_type": "execute_result"
    }
   ],
   "source": [
    "from lab_cheat import *\n",
    "from lab_cheat.advanced_functions import sigma\n",
    "variable = [1, 2, 3, 4, 5, 6, 7, 8, 9, 10]\n",
    "sigma(variable)"
   ]
  }
 ],
 "metadata": {
  "kernelspec": {
   "display_name": "Python 3 (ipykernel)",
   "language": "python",
   "name": "python3"
  },
  "language_info": {
   "codemirror_mode": {
    "name": "ipython",
    "version": 3
   },
   "file_extension": ".py",
   "mimetype": "text/x-python",
   "name": "python",
   "nbconvert_exporter": "python",
   "pygments_lexer": "ipython3",
   "version": "3.9.12"
  }
 },
 "nbformat": 4,
 "nbformat_minor": 5
}
