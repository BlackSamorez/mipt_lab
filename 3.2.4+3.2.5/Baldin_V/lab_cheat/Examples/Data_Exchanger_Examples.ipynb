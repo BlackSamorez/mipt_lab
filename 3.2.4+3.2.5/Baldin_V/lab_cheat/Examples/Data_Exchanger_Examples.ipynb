{
 "cells": [
  {
   "cell_type": "markdown",
   "id": "cdea68ea",
   "metadata": {},
   "source": [
    "# Пособие по использованию блока data_exchanger"
   ]
  },
  {
   "cell_type": "markdown",
   "id": "6c6ca86e",
   "metadata": {},
   "source": [
    "Данное пособие научит вас быстро и удобно вводить свои данные в python для последующей обработки."
   ]
  },
  {
   "cell_type": "markdown",
   "id": "6a5aba96",
   "metadata": {},
   "source": [
    "## Оглавление"
   ]
  },
  {
   "cell_type": "markdown",
   "id": "3f48deb6",
   "metadata": {},
   "source": [
    "1. [__Функция read_data__](#Функция-read_data) Считывание Excel и csv\n",
    "    \n",
    "    \n",
    "2. [__Функция shredder__](#Функция-shredder) Разбиение листа с данными на таблички\n",
    "    - [Обязательные параметры:](#Обязательные-параметры-(shredder):)\n",
    "    - [Дополнительные параметры:](#Дополнительные-параметры-(shredder):)\n",
    "    - [Выходящие данные:](#Выходящие-данные-(shredder):)\n",
    "    \n",
    "    \n",
    "3. [__Функции получения погрешности из данных__](#Функции-получения-погрешности-из-данных) Конвертация из `DataFrame` в GroupVar\n",
    "    1. [__Функция get_into_groupvar_col_to_col__](#Функция-get_into_groupvar_col_to_col)\n",
    "        - [Обязательные параметры:](#Обязательные-параметры-(get_into_groupvar_col_to_col):)\n",
    "        - [Выходящие данные:](#Выходящие-данные-(get_into_groupvar_col_to_col):)\n",
    "        \n",
    "    2. [__Функция get_into_groupvar_col_named__](#Функция-get_into_groupvar_col_named)\n",
    "        - [Обязательные параметры:](#Обязательные-параметры-(get_into_groupvar_col_named):)\n",
    "        - [Выходящие данные:](#Выходящие-данные-(get_into_groupvar_col_named):)\n",
    "        \n",
    "    3. [__Функция get_into_groupvar_col_last_err__](#Функция-get_into_groupvar_col_last_err)\n",
    "        - [Обязательные параметры:](#Обязательные-параметры-(get_into_groupvar_col_last_err):)\n",
    "        - [Выходящие данные:](#Выходящие-данные-(get_into_groupvar_col_last_err):)\n",
    "    \n",
    "    \n",
    "    \n",
    "4. [__Функция quick_use_form__](#Функция-quick_use_form) Упрощение использования данных\n",
    "    - [Обязательные параметры:](#Обязательные-параметры-(quick_use_form):)\n",
    "    - [Дополнительные параметры:](#Дополнительные-параметры-(quick_use_form):)\n",
    "    \n",
    "    \n",
    "5. [__Функция show_df__](#Функция-show_df) Красивый вывод DataFrame\n",
    "    - [Обязательные параметры:](#Обязательные-параметры-(show_df):)\n",
    "    \n",
    "    "
   ]
  },
  {
   "cell_type": "markdown",
   "id": "27e310d5",
   "metadata": {},
   "source": [
    "## Функция read_data"
   ]
  },
  {
   "cell_type": "markdown",
   "id": "55c7f8e1",
   "metadata": {},
   "source": [
    "Эта функция является основной при вводе данных, отвечает за открытие Excel или csv файлов. Показывает обычное окно Windows для выбора файла. Выводит DataFrame со всем полученным листом.\n"
   ]
  },
  {
   "attachments": {},
   "cell_type": "markdown",
   "id": "4427e0ef",
   "metadata": {},
   "source": [
    "Примерно так будет выглядеть окно\n",
    "\n",
    "<div>\n",
    "<img src=\"Images/File_sys.png\" width=\"500\"/>\n",
    "</div>"
   ]
  },
  {
   "cell_type": "code",
   "execution_count": 2,
   "id": "da79e463",
   "metadata": {},
   "outputs": [
    {
     "data": {
      "text/html": [
       "<div>\n",
       "<style scoped>\n",
       "    .dataframe tbody tr th:only-of-type {\n",
       "        vertical-align: middle;\n",
       "    }\n",
       "\n",
       "    .dataframe tbody tr th {\n",
       "        vertical-align: top;\n",
       "    }\n",
       "\n",
       "    .dataframe thead th {\n",
       "        text-align: right;\n",
       "    }\n",
       "</style>\n",
       "<table border=\"1\" class=\"dataframe\">\n",
       "  <thead>\n",
       "    <tr style=\"text-align: right;\">\n",
       "      <th></th>\n",
       "      <th>0</th>\n",
       "      <th>1</th>\n",
       "      <th>2</th>\n",
       "      <th>3</th>\n",
       "      <th>4</th>\n",
       "      <th>5</th>\n",
       "      <th>6</th>\n",
       "      <th>7</th>\n",
       "    </tr>\n",
       "  </thead>\n",
       "  <tbody>\n",
       "    <tr>\n",
       "      <th>0</th>\n",
       "      <td>NaN</td>\n",
       "      <td>NaN</td>\n",
       "      <td>NaN</td>\n",
       "      <td>NaN</td>\n",
       "      <td>NaN</td>\n",
       "      <td>NaN</td>\n",
       "      <td>NaN</td>\n",
       "      <td>NaN</td>\n",
       "    </tr>\n",
       "    <tr>\n",
       "      <th>1</th>\n",
       "      <td>NaN</td>\n",
       "      <td>NaN</td>\n",
       "      <td>NaN</td>\n",
       "      <td>NaN</td>\n",
       "      <td>NaN</td>\n",
       "      <td>Len, см</td>\n",
       "      <td>10.0</td>\n",
       "      <td>2.0</td>\n",
       "    </tr>\n",
       "    <tr>\n",
       "      <th>2</th>\n",
       "      <td>NaN</td>\n",
       "      <td>N</td>\n",
       "      <td>t, с</td>\n",
       "      <td>Т, с</td>\n",
       "      <td>NaN</td>\n",
       "      <td>arg, Н</td>\n",
       "      <td>15.0</td>\n",
       "      <td>3.0</td>\n",
       "    </tr>\n",
       "    <tr>\n",
       "      <th>3</th>\n",
       "      <td>NaN</td>\n",
       "      <td>10</td>\n",
       "      <td>43.71</td>\n",
       "      <td>4.371</td>\n",
       "      <td>NaN</td>\n",
       "      <td>angl, rad</td>\n",
       "      <td>0.5</td>\n",
       "      <td>0.1</td>\n",
       "    </tr>\n",
       "    <tr>\n",
       "      <th>4</th>\n",
       "      <td>NaN</td>\n",
       "      <td>10</td>\n",
       "      <td>43.31</td>\n",
       "      <td>4.331</td>\n",
       "      <td>NaN</td>\n",
       "      <td>NaN</td>\n",
       "      <td>NaN</td>\n",
       "      <td>NaN</td>\n",
       "    </tr>\n",
       "    <tr>\n",
       "      <th>5</th>\n",
       "      <td>NaN</td>\n",
       "      <td>10</td>\n",
       "      <td>43.67</td>\n",
       "      <td>4.367</td>\n",
       "      <td>NaN</td>\n",
       "      <td>NaN</td>\n",
       "      <td>NaN</td>\n",
       "      <td>NaN</td>\n",
       "    </tr>\n",
       "    <tr>\n",
       "      <th>6</th>\n",
       "      <td>NaN</td>\n",
       "      <td>10</td>\n",
       "      <td>43.61</td>\n",
       "      <td>4.361</td>\n",
       "      <td>NaN</td>\n",
       "      <td>NaN</td>\n",
       "      <td>NaN</td>\n",
       "      <td>NaN</td>\n",
       "    </tr>\n",
       "    <tr>\n",
       "      <th>7</th>\n",
       "      <td>NaN</td>\n",
       "      <td>10</td>\n",
       "      <td>43.87</td>\n",
       "      <td>4.387</td>\n",
       "      <td>NaN</td>\n",
       "      <td>NaN</td>\n",
       "      <td>NaN</td>\n",
       "      <td>NaN</td>\n",
       "    </tr>\n",
       "    <tr>\n",
       "      <th>8</th>\n",
       "      <td>NaN</td>\n",
       "      <td>10</td>\n",
       "      <td>43.92</td>\n",
       "      <td>4.392</td>\n",
       "      <td>NaN</td>\n",
       "      <td>NaN</td>\n",
       "      <td>NaN</td>\n",
       "      <td>NaN</td>\n",
       "    </tr>\n",
       "    <tr>\n",
       "      <th>9</th>\n",
       "      <td>NaN</td>\n",
       "      <td>10</td>\n",
       "      <td>43.91</td>\n",
       "      <td>4.391</td>\n",
       "      <td>NaN</td>\n",
       "      <td>NaN</td>\n",
       "      <td>NaN</td>\n",
       "      <td>NaN</td>\n",
       "    </tr>\n",
       "  </tbody>\n",
       "</table>\n",
       "</div>"
      ],
      "text/plain": [
       "    0    1      2      3   4          5     6    7\n",
       "0 NaN  NaN    NaN    NaN NaN        NaN   NaN  NaN\n",
       "1 NaN  NaN    NaN    NaN NaN    Len, см  10.0  2.0\n",
       "2 NaN    N   t, с   Т, с NaN     arg, Н  15.0  3.0\n",
       "3 NaN   10  43.71  4.371 NaN  angl, rad   0.5  0.1\n",
       "4 NaN   10  43.31  4.331 NaN        NaN   NaN  NaN\n",
       "5 NaN   10  43.67  4.367 NaN        NaN   NaN  NaN\n",
       "6 NaN   10  43.61  4.361 NaN        NaN   NaN  NaN\n",
       "7 NaN   10  43.87  4.387 NaN        NaN   NaN  NaN\n",
       "8 NaN   10  43.92  4.392 NaN        NaN   NaN  NaN\n",
       "9 NaN   10  43.91  4.391 NaN        NaN   NaN  NaN"
      ]
     },
     "execution_count": 2,
     "metadata": {},
     "output_type": "execute_result"
    }
   ],
   "source": [
    "from lab_cheat import *\n",
    "read_data()"
   ]
  },
  {
   "cell_type": "markdown",
   "id": "f5b6e28e",
   "metadata": {},
   "source": [
    "## Функция shredder"
   ]
  },
  {
   "cell_type": "markdown",
   "id": "1b3e17df",
   "metadata": {},
   "source": [
    "Данная функция отвечает за \"нарезку\" всего листа (обычно результат работы функции [__read_data__](#Функция-read_data)). Определяет строки с константами в файле и таблицы, выдаёт константы отдельно, таблицы - отдельно.\n",
    "\n",
    "__Важно!__ Для корректной работы данной функции необходимо, чтобы ячейки в Excel файле были правильно определены, т. е. числа хранились в ячейках числового формата, а названия столбцов или констант были текстового формата."
   ]
  },
  {
   "cell_type": "markdown",
   "id": "7c179330",
   "metadata": {},
   "source": [
    "### Обязательные параметр (shredder):"
   ]
  },
  {
   "cell_type": "markdown",
   "id": "e4928017",
   "metadata": {},
   "source": [
    "- __dataf__ - Ваш лист, объект класса pandas.DataFrame, рекомендуется использовать результат работы [__read_data__](#Функция-read_data)"
   ]
  },
  {
   "cell_type": "markdown",
   "id": "024815f5",
   "metadata": {},
   "source": [
    "### Дополнительные параметры (shredder):"
   ]
  },
  {
   "cell_type": "markdown",
   "id": "4bcd6bdc",
   "metadata": {},
   "source": [
    "- __show_result__ - Логическое значение, нужно ли вывести таблицы, на которые был поделен файл (True - выведется, False - нет)"
   ]
  },
  {
   "cell_type": "markdown",
   "id": "e8a0c102",
   "metadata": {},
   "source": [
    "### Выходящие данные (shredder):"
   ]
  },
  {
   "cell_type": "markdown",
   "id": "1899b350",
   "metadata": {},
   "source": [
    "Данная фанкция возвращает через запятую словарь с константами, ключи - названия ваших констант вместе с погрешностью, а значения - объекты класса Var, т. е. значение + погрешность."
   ]
  },
  {
   "cell_type": "markdown",
   "id": "45657e7b",
   "metadata": {},
   "source": [
    "### Пример 1  (shredder):"
   ]
  },
  {
   "attachments": {},
   "cell_type": "markdown",
   "id": "44d28da0",
   "metadata": {},
   "source": [
    "Наша таблица Excel имеет вид:\n",
    "<div>\n",
    "<img src=\"Images/Table1.png\" width=\"500\"/>\n",
    "</div>"
   ]
  },
  {
   "cell_type": "markdown",
   "id": "7468dc60",
   "metadata": {},
   "source": [
    "Тут голубые ячейки - названия столбцов таблицы, а кремовый - значения столбцов. А справа - формат таблицы, когда мы хотим передать константы, т. е. величины, общие для всех или большинства измерений. Синие ячейки - названия констант, рекомендуется делать их не очень длинными, так как потом вы будете пользоваться этими названиями при написании кода. Жёлтые ячейки - значения констант, а светло-зелёные - погрешности к соответствующей константе, если погрешности нет, нужно писать 0.\n",
    "\n",
    "Введём данные и посмотрим результат работы:"
   ]
  },
  {
   "cell_type": "code",
   "execution_count": 4,
   "id": "9a70b04d",
   "metadata": {},
   "outputs": [
    {
     "name": "stdout",
     "output_type": "stream",
     "text": [
      "{'Len, см': ~10.0, 'arg, Н': ~15.0, 'angl, rad': ~0.5}\n"
     ]
    },
    {
     "data": {
      "image/png": "[encoded data removed]",
      "text/plain": [
       "<Figure size 432x360 with 1 Axes>"
      ]
     },
     "metadata": {
      "needs_background": "light"
     },
     "output_type": "display_data"
    }
   ],
   "source": [
    "constants, data = shredder(read_data(), True)"
   ]
  },
  {
   "cell_type": "markdown",
   "id": "1c94b228",
   "metadata": {},
   "source": [
    "### Пример 2 (shredder):"
   ]
  },
  {
   "attachments": {},
   "cell_type": "markdown",
   "id": "6ef4d715",
   "metadata": {},
   "source": [
    "Теперь рассмотрим такую таблицу:\n",
    "\n",
    "\n",
    "<div>\n",
    "<img src=\"Images/Table2.png\" width=\"900\"/>\n",
    "</div>\n",
    "\n",
    "\n",
    "Заметим, что теперь у нас 2 \"блока\" констант и 2 таблицы будто слиплись. В этом случае так как строки таблиц не имеют смысла и не несут никакой информации, так что такие таблицы будут поделены на две, прочие случаи \"кривого\" слипания тоже будут раздроблены."
   ]
  },
  {
   "cell_type": "code",
   "execution_count": 2,
   "id": "e512ff85",
   "metadata": {},
   "outputs": [
    {
     "name": "stdout",
     "output_type": "stream",
     "text": [
      "{'l, см': ~50.0, 'm, г': ~1531.0, 'p, кг/м^3': ~1890.0, 'k, Н/м': ~100.0, 'g, м/с^2': ~9.81, 'R, см': ~20.0}\n"
     ]
    },
    {
     "data": {
      "image/png": "[encoded data removed]",
      "text/plain": [
       "<Figure size 288x765 with 1 Axes>"
      ]
     },
     "metadata": {
      "needs_background": "light"
     },
     "output_type": "display_data"
    },
    {
     "data": {
      "image/png": "[encoded data removed]",
      "text/plain": [
       "<Figure size 432x315 with 1 Axes>"
      ]
     },
     "metadata": {
      "needs_background": "light"
     },
     "output_type": "display_data"
    },
    {
     "data": {
      "image/png": "[encoded data removed]",
      "text/plain": [
       "<Figure size 576x270 with 1 Axes>"
      ]
     },
     "metadata": {
      "needs_background": "light"
     },
     "output_type": "display_data"
    }
   ],
   "source": [
    "constants, data = shredder(read_data(), True)"
   ]
  },
  {
   "cell_type": "markdown",
   "id": "4452eb4a",
   "metadata": {},
   "source": [
    "## Функции получения погрешности из данных"
   ]
  },
  {
   "cell_type": "markdown",
   "id": "80a5da03",
   "metadata": {},
   "source": [
    "На данный момент существуют 3 функции, выполняющие данную функцию:"
   ]
  },
  {
   "cell_type": "markdown",
   "id": "75fc6508",
   "metadata": {},
   "source": [
    "### Функция get_into_groupvar_col_to_col"
   ]
  },
  {
   "cell_type": "markdown",
   "id": "2b4f7d40",
   "metadata": {},
   "source": [
    "Формат ввода погрешностей в форме _столбец к столбцу_. Данная функция требует, чтобы каждому столбцу значений соответствовал столбец погрешностей для каждого измерения.\n",
    "\n",
    "Такой способ ввода данных может быть удобен в случае, если для каждого отдельного измерения своя погрешность."
   ]
  },
  {
   "cell_type": "markdown",
   "id": "f594cdfb",
   "metadata": {},
   "source": [
    "### Обязательные параметры (get_into_groupvar_col_to_col):"
   ]
  },
  {
   "attachments": {},
   "cell_type": "markdown",
   "id": "f0b0c0a1",
   "metadata": {},
   "source": [
    "- __data_frame__ - Аккуратно вырезанная табличка в формате DataFrame, обычно используется результат работы программы [__shredder__](#Функция-shredder). Таблица должна иметь следующий формат:\n",
    "\n",
    "<div>\n",
    "<img src=\"Images/Table3.png\" width=\"400\"/>\n",
    "</div>"
   ]
  },
  {
   "cell_type": "markdown",
   "id": "3bac181e",
   "metadata": {},
   "source": [
    "Данная функция просто к каждому столбцу записывает в качестве погрешности следующий. Синие столбцы - значения, оранжевые - погрешности. Требует, чтобы к __каждому__ столбцу был _компаньон_ с погрешностью."
   ]
  },
  {
   "cell_type": "markdown",
   "id": "c7769368",
   "metadata": {},
   "source": [
    "### Выходящие данные (get_into_groupvar_col_to_col):"
   ]
  },
  {
   "cell_type": "markdown",
   "id": "1ed05ae2",
   "metadata": {},
   "source": [
    "Возвращает словарь, ключами которого являются названия столбцов со значениями, а значения по ключам - объекты класса GroupVar, то есть ваши столбцы с уже вшитой погрешностью."
   ]
  },
  {
   "cell_type": "code",
   "execution_count": 1,
   "id": "59d183a8",
   "metadata": {},
   "outputs": [
    {
     "data": {
      "text/plain": [
       "{'t1': ['~154.0', '~115.0', '~141.0', '~176.0', '~217.0', '~268.0'],\n",
       " 'h нач1': ['~15.7', '~15.5', '~15.5', '~15.5', '~15.5', '~17.3'],\n",
       " 'h кон1': ['~14.6', '~14.7', '~14.6', '~14.3', '~14.3', '~15.6']}"
      ]
     },
     "execution_count": 1,
     "metadata": {},
     "output_type": "execute_result"
    }
   ],
   "source": [
    "c, data = shredder(read_data())\n",
    "get_into_groupvar_col_to_col(data[0])"
   ]
  },
  {
   "cell_type": "markdown",
   "id": "30cdae58",
   "metadata": {},
   "source": [
    "### Функция get_into_groupvar_col_named"
   ]
  },
  {
   "cell_type": "markdown",
   "id": "7f9716f3",
   "metadata": {},
   "source": [
    "Своего рода аналог [__get_into_groupvar_col_to_col__](#Функция-get_into_groupvar_col_to_col). Только сделан для случая, когда погрешности есть не у всех столбцов. Для того, чтобы дать понять программе, что следующий столбец должен быть столбцом с погрешностью, начните его название с `delta` и далее неважно, что вы напишете, программа запишет его как погрешность к предыдущему."
   ]
  },
  {
   "cell_type": "markdown",
   "id": "7183c4a4",
   "metadata": {},
   "source": [
    "### Обязательные параметры (get_into_groupvar_col_named):"
   ]
  },
  {
   "attachments": {},
   "cell_type": "markdown",
   "id": "ba16d8e6",
   "metadata": {},
   "source": [
    "- __data_frame__ - Аккуратно вырезанная табличка в формате DataFrame, обычно используется результат работы программы [__shredder__](#Функция-shredder). Таблица должна иметь следующий формат:\n",
    "\n",
    "<div>\n",
    "<img src=\"Images/Table4.png\" width=\"250\"/>\n",
    "</div>\n",
    "\n",
    "Как видите, у этой таблицы лишь один стобец с погрешностью, так что 2 остальных столбца значений останутся с нулевой погрешностью, цвета аналогичны предудщему пункту."
   ]
  },
  {
   "attachments": {},
   "cell_type": "markdown",
   "id": "3d6a3ddc",
   "metadata": {},
   "source": [
    "### Выходящие данные (get_into_groupvar_col_named):"
   ]
  },
  {
   "cell_type": "markdown",
   "id": "c829d30d",
   "metadata": {},
   "source": [
    "Возвращает словарь, ключами которого являются названия столбцов со значениями, а значения по ключам - объекты класса GroupVar, то есть ваши столбцы с уже вшитой погрешностью."
   ]
  },
  {
   "cell_type": "code",
   "execution_count": 1,
   "id": "2677ea9f",
   "metadata": {},
   "outputs": [
    {
     "data": {
      "text/plain": [
       "{'t2': ['~154.0', '~114.0', '~141.0', '~175.0', '~216.0', '~267.0'],\n",
       " 'h нач2': ['~15.5', '~15.6', '~15.6', '~15.6', '~15.3', '~17.3'],\n",
       " 'h кон2': ['~14.35', '~14.9', '~14.7', '~14.4', '~14.3', '~15.5']}"
      ]
     },
     "execution_count": 1,
     "metadata": {},
     "output_type": "execute_result"
    }
   ],
   "source": [
    "c, data = shredder(read_data())\n",
    "get_into_groupvar_col_named(data[0])"
   ]
  },
  {
   "cell_type": "markdown",
   "id": "aab8d9c7",
   "metadata": {},
   "source": [
    "### Функция get_into_groupvar_col_last_err"
   ]
  },
  {
   "cell_type": "markdown",
   "id": "6a977405",
   "metadata": {},
   "source": [
    "Функция, реализующая ввод погрешности по последнему значению, то есть последняя строка в таблице должна быть строкой с погрешностями. Удобен, если погрешности для всех измерений внутри одного столбца одинаковы."
   ]
  },
  {
   "cell_type": "markdown",
   "id": "2f2bf287",
   "metadata": {},
   "source": [
    "### Обязательные параметры (get_into_groupvar_col_last_err):"
   ]
  },
  {
   "attachments": {},
   "cell_type": "markdown",
   "id": "3448b23c",
   "metadata": {},
   "source": [
    "- __data_frame__ - Аккуратно вырезанная табличка в формате DataFrame, обычно используется результат работы программы [__shredder__](#Функция-shredder). Таблица должна иметь следующий формат:\n",
    "\n",
    "<div>\n",
    "<img src=\"Images/Table5.png\" width=\"250\"/>\n",
    "</div>\n",
    "\n",
    "\n",
    "В данной таблице последняя строка является погрешностью для всех столбцов, эта погрешность будет записана каждому элементу GroupVar"
   ]
  },
  {
   "cell_type": "markdown",
   "id": "87ac5aff",
   "metadata": {},
   "source": [
    "### Выходящие данные (get_into_groupvar_col_last_err):"
   ]
  },
  {
   "cell_type": "markdown",
   "id": "6eeddbea",
   "metadata": {},
   "source": [
    "Возвращает словарь, ключами которого являются названия столбцов со значениями, а значения по ключам - объекты класса GroupVar, то есть ваши столбцы с уже вшитой погрешностью."
   ]
  },
  {
   "cell_type": "code",
   "execution_count": 2,
   "id": "caa6208e",
   "metadata": {},
   "outputs": [
    {
     "data": {
      "text/plain": [
       "{'h, мм': ['~0.0', '~3.0', '~8.0', '~13.0', '~18.0', '~23.0', '~28.0', '~33.0', '~38.0', '~43.0'],\n",
       " 't1, с': ['~30.21', '~30.36', '~30.59', '~30.81', '~31.2', '~31.69', '~32.22', '~33.04', '~33.89', '~34.7'],\n",
       " 't2, с': ['~30.26', '~30.32', '~30.52', '~30.81', '~31.14', '~31.65', '~32.21', '~33.02', '~33.89', '~34.73'],\n",
       " 't3, с2': ['~30.24', '~30.33', '~30.55', '~30.78', '~31.11', '~31.63', '~32.21', '~33.0', '~33.88', '~34.75']}"
      ]
     },
     "execution_count": 2,
     "metadata": {},
     "output_type": "execute_result"
    }
   ],
   "source": [
    "c, data = shredder(read_data())\n",
    "get_into_groupvar_col_last_err(data[0])"
   ]
  },
  {
   "cell_type": "markdown",
   "id": "3e97d1a4",
   "metadata": {},
   "source": [
    "## Функция quick_use_form"
   ]
  },
  {
   "cell_type": "markdown",
   "id": "faa783ed",
   "metadata": {},
   "source": [
    "Данная функция помогает ускорить написание формул в программе. Для чего она делает 2 вещи:\n",
    "- Отбрасывает размерности из всех ключей словаря\n",
    "- Генирирует строки для явной инициализации переменных\n",
    "\n",
    "Благодаря ручной явной инициализации переменных становится возможным написание формул так же, как и в обычных задачах, то есть без дополнительного обращения по ключу.\n",
    "\n",
    "__Важно!__ Во избежании ошибок не делайте названий ваших столбцов системными именами python вроде lambda, and и т. д."
   ]
  },
  {
   "cell_type": "markdown",
   "id": "103e0278",
   "metadata": {},
   "source": [
    "### Обязательные параметры (quick_use_form):"
   ]
  },
  {
   "cell_type": "markdown",
   "id": "fa44c720",
   "metadata": {},
   "source": [
    "- __dictionary__ - Словарь с данными, который необходимо сделать легкоиспользуемым, обычно является результатом работы одной из программ [блока](#Функции-получения-погрешности-из-данных)."
   ]
  },
  {
   "cell_type": "markdown",
   "id": "3747acef",
   "metadata": {},
   "source": [
    "### Дополнительные параметры (quick_use_form):"
   ]
  },
  {
   "cell_type": "markdown",
   "id": "922606b0",
   "metadata": {},
   "source": [
    "- __name_dct__ - Название объекта с данными в вашей программе, то есть если вы сложили данные в словарь `data`, то необходимо передать \"data\". __Важно!__ Данный объект должен быть строкой с названием объекта, а не объектом! \n",
    "Используется для генерации строк для явной инициализации переменных. Если передан и не `None`, то строки для явной задачи будут выводиться.\n",
    "\n",
    "\n",
    "- __index__ - Не может быть передан, если __name_dct__ не передан. Используется в случае, если словарь с вашими данными хранится в итерируемом объекте, например в списке, тогда как __name_dct__ передаётся название списка, а в этот параметр - индекс оъекта в списке.\n",
    "\n",
    "Для примера воспользуемся результатом работы примера к \n",
    "[get_into_groupvar_col_last_err](#Выходящие-данные-(get_into_groupvar_col_last_err):)"
   ]
  },
  {
   "cell_type": "code",
   "execution_count": 9,
   "id": "898a548d",
   "metadata": {},
   "outputs": [
    {
     "name": "stdout",
     "output_type": "stream",
     "text": [
      "h, t1, t2, t3 = table1[0]['h'], table1[0]['t1'], table1[0]['t2'], table1[0]['t3']\n"
     ]
    },
    {
     "data": {
      "text/plain": [
       "[{'h, мм': ['~0.0', '~3.0', '~8.0', '~13.0', '~18.0', '~23.0', '~28.0', '~33.0', '~38.0', '~43.0'],\n",
       "  't1, с': ['~30.21', '~30.36', '~30.59', '~30.81', '~31.2', '~31.69', '~32.22', '~33.04', '~33.89', '~34.7'],\n",
       "  't2, с': ['~30.26', '~30.32', '~30.52', '~30.81', '~31.14', '~31.65', '~32.21', '~33.02', '~33.89', '~34.73'],\n",
       "  't3, с2': ['~30.24', '~30.33', '~30.55', '~30.78', '~31.11', '~31.63', '~32.21', '~33.0', '~33.88', '~34.75'],\n",
       "  'h': ['~0.0', '~3.0', '~8.0', '~13.0', '~18.0', '~23.0', '~28.0', '~33.0', '~38.0', '~43.0'],\n",
       "  't1': ['~30.21', '~30.36', '~30.59', '~30.81', '~31.2', '~31.69', '~32.22', '~33.04', '~33.89', '~34.7'],\n",
       "  't2': ['~30.26', '~30.32', '~30.52', '~30.81', '~31.14', '~31.65', '~32.21', '~33.02', '~33.89', '~34.73'],\n",
       "  't3': ['~30.24', '~30.33', '~30.55', '~30.78', '~31.11', '~31.63', '~32.21', '~33.0', '~33.88', '~34.75']}]"
      ]
     },
     "execution_count": 9,
     "metadata": {},
     "output_type": "execute_result"
    }
   ],
   "source": [
    "c, data = shredder(read_data())\n",
    "table1 = [get_into_groupvar_col_last_err(data[0])] # Добавляем в список, чтобы продемонстрировать работу параметра index\n",
    "table1[0] = quick_use_form(table1[0], \"table1\", 0)\n",
    "table1"
   ]
  },
  {
   "cell_type": "markdown",
   "id": "e9cc4285",
   "metadata": {},
   "source": [
    "Тут вы можете видеть, что функция сгенерировала и вывела строку, которую нужно просто вставить в свой код после её работы и вы явно зададите переменные, так же она добавила в исходный словарь ещё ключи + значения с укороченным ключом."
   ]
  },
  {
   "cell_type": "markdown",
   "id": "fb68eb1a",
   "metadata": {},
   "source": [
    "### Функция show_df"
   ]
  },
  {
   "cell_type": "markdown",
   "id": "0afc91ab",
   "metadata": {},
   "source": [
    "Данная функция решает проблему вывода таблицы для проверки корректности работы программы, так как `print` плохо работает с DataFrame, используйте эту функцию. Она строит таблицы на движке `matplotlib` и выводит в отдельное окошко."
   ]
  },
  {
   "cell_type": "markdown",
   "id": "6a8918a5",
   "metadata": {},
   "source": [
    "### Обязательные параметры (show_df):"
   ]
  },
  {
   "cell_type": "markdown",
   "id": "c924a459",
   "metadata": {},
   "source": [
    "- __df__ - DataFrame, который нужно вывести."
   ]
  },
  {
   "cell_type": "code",
   "execution_count": 10,
   "id": "5c29434b",
   "metadata": {},
   "outputs": [
    {
     "data": {
      "image/png": "[encoded data removed]",
      "text/plain": [
       "<Figure size 576x585 with 1 Axes>"
      ]
     },
     "metadata": {
      "needs_background": "light"
     },
     "output_type": "display_data"
    }
   ],
   "source": [
    "c, data = shredder(read_data())\n",
    "show_df(data[0])"
   ]
  },
  {
   "cell_type": "code",
   "execution_count": null,
   "id": "e76730b1",
   "metadata": {},
   "outputs": [],
   "source": []
  }
 ],
 "metadata": {
  "kernelspec": {
   "display_name": "Python 3 (ipykernel)",
   "language": "python",
   "name": "python3"
  },
  "language_info": {
   "codemirror_mode": {
    "name": "ipython",
    "version": 3
   },
   "file_extension": ".py",
   "mimetype": "text/x-python",
   "name": "python",
   "nbconvert_exporter": "python",
   "pygments_lexer": "ipython3",
   "version": "3.9.12"
  }
 },
 "nbformat": 4,
 "nbformat_minor": 5
}
