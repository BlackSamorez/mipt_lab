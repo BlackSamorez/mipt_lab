{
 "cells": [
  {
   "cell_type": "markdown",
   "metadata": {},
   "source": [
    "# Определение теплоты испарения жидкости"
   ]
  },
  {
   "cell_type": "code",
   "execution_count": 64,
   "metadata": {},
   "outputs": [],
   "source": [
    "import numpy as np\n",
    "import pandas as pd\n",
    "import matplotlib\n",
    "from matplotlib import pyplot as plt\n",
    "from scipy.interpolate import UnivariateSpline\n",
    "\n",
    "def read_files(files):\n",
    "    data = []\n",
    "    for f in files:\n",
    "        data += [pd.read_csv(f, sep=',', skipinitialspace=True)]\n",
    "    return data\n",
    "\n",
    "def get_linear(x, y, xerr, yerr):\n",
    "    a, b = np.polyfit(x, y, deg=1)\n",
    "    aerr = np.sqrt(1 / (x.__len__() - 1) * (sum([(it - b)**2 for it in y]) \n",
    "                                                    / sum([it**2 for it in x]) - a**2))\n",
    "    syserr = np.sqrt((np.average(xerr) / (max(x) - min(x)))**2\n",
    "                         + (np.average(yerr) / (max(y) - min(y)))**2)\n",
    "    a_syserr = a * syserr\n",
    "    berr = aerr * np.sqrt(np.average([it**2 for it in x]))\n",
    "    b_syserr = b * syserr\n",
    "    return ((a, b), (np.sqrt(aerr**2 + a_syserr**2), np.sqrt(berr**2 + b_syserr**2)))\n",
    "\n",
    "labels = ['Heating', 'Cooling']\n",
    "\n",
    "[data, cooling] = read_files(['data/data.csv', 'data/cooling.csv'])\n",
    "colors = ['red', 'green']\n",
    "\n",
    "plt.figure(figsize=(7, 4))\n",
    "\n",
    "i = 0\n",
    "for it in [data, cooling]:\n",
    "    inverse_T = it['1/T']\n",
    "    ln_P = it['lnP']\n",
    "    plt.errorbar(inverse_T, ln_P, xerr=0, yerr=0, fmt=f'{colors[i][0]}.')\n",
    "    ((a, b), (aerr, berr)) = get_linear(inverse_T, ln_P, [0], [0])\n",
    "    z = np.linspace(min(inverse_T), max(inverse_T), 1000)\n",
    "    plt.plot(z, a * z + b, color=colors[i], label=labels[i])\n",
    "    i += 1\n",
    "    \n",
    "# Оформление\n",
    "plt.xlabel('$1 / T$, K$^{-1}$')\n",
    "plt.ylabel('$\\\\ln P$')\n",
    "plt.grid(linestyle='--')\n",
    "plt.legend()\n",
    "plt.savefig('data/lin.pdf')\n",
    "\n",
    "plt.figure(figsize=(7, 4))\n",
    "\n",
    "i = 0\n",
    "for it in [data, cooling]:\n",
    "    T = it['T']\n",
    "    P = it['P']\n",
    "    plt.errorbar(T, P, xerr=0.1, yerr=0.1, fmt=f'{colors[i][0]}.')\n",
    "    if (i == 0):\n",
    "        s = UnivariateSpline(T, P, s=5)\n",
    "    z = np.linspace(min(T), max(T), 1000)\n",
    "    plt.plot(z, s(z), color=colors[i], label=labels[i])\n",
    "    i += 1\n",
    "\n",
    "# Оформление\n",
    "plt.xlabel('$T$, \\\\textdegree C')\n",
    "plt.ylabel('$P$, mm hg')\n",
    "plt.grid(linestyle='--')\n",
    "plt.legend()\n",
    "plt.savefig('data/curve.pdf')\n"
   ]
  }
 ],
 "metadata": {
  "kernelspec": {
   "display_name": "Python 3",
   "language": "python",
   "name": "python3"
  },
  "language_info": {
   "codemirror_mode": {
    "name": "ipython",
    "version": 3
   },
   "file_extension": ".py",
   "mimetype": "text/x-python",
   "name": "python",
   "nbconvert_exporter": "python",
   "pygments_lexer": "ipython3",
   "version": "3.11.2"
  }
 },
 "nbformat": 4,
 "nbformat_minor": 2
}
