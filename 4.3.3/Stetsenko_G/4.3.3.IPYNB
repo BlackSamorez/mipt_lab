{
 "cells": [
  {
   "cell_type": "markdown",
   "id": "9f58406c",
   "metadata": {},
   "source": [
    "|  | 1 | 2 | 3 | \n",
    "| ---| --| --| --| \n",
    "| ВЕРХ |  215mm / 3 | 259mm / 9 | 172mm / 12 |\n",
    "| НИЗ |  215mm / 3| 174mm / 6 | 200 mm / 14|"
   ]
  },
  {
   "cell_type": "markdown",
   "id": "2fe335d8",
   "metadata": {},
   "source": [
    "Расстояние до сетки $(135\\pm 1)$ см"
   ]
  },
  {
   "cell_type": "code",
   "execution_count": 15,
   "id": "3ededde1",
   "metadata": {},
   "outputs": [
    {
     "data": {
      "text/plain": [
       "array([[9.99777893e-06, 2.48685827e-05, 4.99214182e-05],\n",
       "       [9.99777893e-06, 2.46781057e-05, 5.00878042e-05]])"
      ]
     },
     "execution_count": 15,
     "metadata": {},
     "output_type": "execute_result"
    }
   ],
   "source": [
    "import numpy as np\n",
    "\n",
    "sizes = np.array(((215, 259 ,172), (215, 174, 200)), dtype=np.float64)\n",
    "tans = sizes / 1350\n",
    "amounts = np.array(((3, 9, 12), (3, 6, 14)))\n",
    "thetas = np.atan(tans/amounts)\n",
    "sins  = np.sin(thetas)\n",
    "lam = 530e-9\n",
    "lam/sins"
   ]
  },
  {
   "cell_type": "markdown",
   "id": "0d51dbcc",
   "metadata": {},
   "source": [
    "ВЕРТИКАЛЬНЫЕ ПОЛОСЫ (ГОРИЗОНТАЛЬНАЯ ЩЕЛЬ):\n",
    "\n",
    "$17$ промежутков на $100~мм$\n",
    "\n",
    "ГОРИЗОНТАЛЬНЫЕ ПОЛОСЫ (ВЕРТИКАЛЬНАЯ ЩЕЛЬ):\n",
    "\n",
    "$17$ на $98~мм$\n",
    "\n",
    "ДИАГОНАЛЬНЫЕ ПОЛОСЫ:\n",
    "\n",
    "$27$ на $111$"
   ]
  }
 ],
 "metadata": {
  "kernelspec": {
   "display_name": "Python 3",
   "language": "python",
   "name": "python3"
  },
  "language_info": {
   "codemirror_mode": {
    "name": "ipython",
    "version": 3
   },
   "file_extension": ".py",
   "mimetype": "text/x-python",
   "name": "python",
   "nbconvert_exporter": "python",
   "pygments_lexer": "ipython3",
   "version": "3.13.0"
  }
 },
 "nbformat": 4,
 "nbformat_minor": 5
}
