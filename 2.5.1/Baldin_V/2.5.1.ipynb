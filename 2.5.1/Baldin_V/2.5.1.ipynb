{
 "cells": [
  {
   "cell_type": "markdown",
   "metadata": {},
   "source": [
    "# Поверхностное натяжение"
   ]
  },
  {
   "cell_type": "code",
   "execution_count": 27,
   "metadata": {},
   "outputs": [],
   "source": [
    "import numpy as np\n",
    "import pandas as pd\n",
    "import matplotlib\n",
    "from matplotlib import pyplot as plt\n",
    "\n",
    "matplotlib.use('pgf')\n",
    "matplotlib.rcParams.update({\n",
    "    'pgf.texsystem': 'pdflatex',\n",
    "    'font.family': 'serif',\n",
    "    'text.usetex': True,\n",
    "    'pgf.rcfonts': False,\n",
    "})\n",
    "\n",
    "def read_files(files):\n",
    "    data = []\n",
    "    for f in files:\n",
    "        data += [pd.read_csv(f, sep=',', skipinitialspace=True)]\n",
    "    return data\n",
    "\n",
    "[sigma] = read_files(['data/sigma_T.csv'])\n",
    "\n",
    "def plot_linear(x, y, label, color):\n",
    "    z = np.linspace(min(x), max(x), 1000)\n",
    "    a, b = np.polyfit(x, y, deg=1)\n",
    "    plt.plot(z, a * z + b, label=label, color=color)\n",
    "    \n",
    "plt.figure(figsize=(7, 4))\n",
    "\n",
    "# Аппроксимация\n",
    "plot_linear(sigma['T'], sigma['sigma'], label='$\\\\sigma$', color='blue')\n",
    "plot_linear(sigma['T'], sigma['q'], label='$q$', color='red')\n",
    "plot_linear(sigma['T'], sigma['U_F'], label='$U/\\Pi$', color='green')\n",
    "\n",
    "# Сами точки\n",
    "plt.errorbar(sigma['T'], sigma['sigma'], xerr=0.2, yerr=sigma['dsigma'], fmt='b.')\n",
    "plt.errorbar(sigma['T'], sigma['q'], xerr=0.2, yerr=sigma['dq'], fmt='r.')\n",
    "plt.errorbar(sigma['T'], sigma['U_F'], xerr=0.2, yerr=sigma['dU_F'], fmt='g.',\n",
    "             ecolor='green')\n",
    "\n",
    "# Оформление\n",
    "plt.xlabel('$T$, \\\\textdegree C')\n",
    "plt.grid(linestyle='--')\n",
    "plt.legend()\n",
    "plt.savefig('data/sigma_T.pgf')\n"
   ]
  }
 ],
 "metadata": {
  "kernelspec": {
   "display_name": "Python 3",
   "language": "python",
   "name": "python3"
  },
  "language_info": {
   "codemirror_mode": {
    "name": "ipython",
    "version": 3
   },
   "file_extension": ".py",
   "mimetype": "text/x-python",
   "name": "python",
   "nbconvert_exporter": "python",
   "pygments_lexer": "ipython3",
   "version": "3.11.2"
  }
 },
 "nbformat": 4,
 "nbformat_minor": 2
}
