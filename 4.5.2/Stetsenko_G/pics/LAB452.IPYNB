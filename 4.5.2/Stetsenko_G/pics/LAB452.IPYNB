{
 "cells": [
  {
   "cell_type": "markdown",
   "metadata": {},
   "source": [
    " | H1 | H2 | H3 | H4 |\n",
    " | --- | --- | --- | --- |\n",
    " | 0.5| | | |"
   ]
  }
 ],
 "metadata": {
  "language_info": {
   "name": "python"
  }
 },
 "nbformat": 4,
 "nbformat_minor": 2
}
